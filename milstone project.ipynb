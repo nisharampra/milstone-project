{
 "cells": [
  {
   "cell_type": "code",
   "execution_count": 47,
   "id": "bfd0f0e8",
   "metadata": {},
   "outputs": [],
   "source": [
    "#card\n",
    "#suit,rank,value\n",
    "import random\n",
    "suits = {'hearts', 'diamonds', 'clubs', 'spades'}\n",
    "ranks = {'two', 'three', 'four', 'five', 'six', 'seven', 'eight', 'nine', 'ten', 'jack', 'queen', 'king', 'ace'}\n",
    "values = {'two': 2, 'three': 3, 'four': 4, 'five': 5, 'six': 6, 'seven': 7, 'eight': 8, 'nine': 9, 'ten': 10, 'jack': 11, 'queen': 12, 'king': 13, 'ace': 14}\n"
   ]
  },
  {
   "cell_type": "code",
   "execution_count": 48,
   "id": "9d50241f",
   "metadata": {},
   "outputs": [],
   "source": [
    "class Card:\n",
    "    def __init__(self,suit,rank):\n",
    "        self.suit=suit\n",
    "        self.rank=rank\n",
    "        self.value=values[rank]\n",
    "    def __str__(self):\n",
    "        return self.rank + \" of \"+ self.suit"
   ]
  },
  {
   "cell_type": "code",
   "execution_count": 49,
   "id": "530f891f",
   "metadata": {},
   "outputs": [],
   "source": [
    "two_hearts=Card(\"hearts\",\"two\")"
   ]
  },
  {
   "cell_type": "code",
   "execution_count": 50,
   "id": "15b75f12",
   "metadata": {},
   "outputs": [
    {
     "data": {
      "text/plain": [
       "<__main__.Card at 0x1073bf290>"
      ]
     },
     "execution_count": 50,
     "metadata": {},
     "output_type": "execute_result"
    }
   ],
   "source": [
    "two_hearts"
   ]
  },
  {
   "cell_type": "code",
   "execution_count": 51,
   "id": "369b7642",
   "metadata": {},
   "outputs": [
    {
     "name": "stdout",
     "output_type": "stream",
     "text": [
      "two of hearts\n"
     ]
    }
   ],
   "source": [
    "print(two_hearts)"
   ]
  },
  {
   "cell_type": "code",
   "execution_count": 52,
   "id": "e502d338",
   "metadata": {},
   "outputs": [
    {
     "data": {
      "text/plain": [
       "'hearts'"
      ]
     },
     "execution_count": 52,
     "metadata": {},
     "output_type": "execute_result"
    }
   ],
   "source": [
    "two_hearts.suit"
   ]
  },
  {
   "cell_type": "code",
   "execution_count": 53,
   "id": "58602aef",
   "metadata": {},
   "outputs": [
    {
     "data": {
      "text/plain": [
       "'two'"
      ]
     },
     "execution_count": 53,
     "metadata": {},
     "output_type": "execute_result"
    }
   ],
   "source": [
    "two_hearts.rank"
   ]
  },
  {
   "cell_type": "code",
   "execution_count": 54,
   "id": "a2b972f1",
   "metadata": {},
   "outputs": [
    {
     "data": {
      "text/plain": [
       "'hearts'"
      ]
     },
     "execution_count": 54,
     "metadata": {},
     "output_type": "execute_result"
    }
   ],
   "source": [
    "two_hearts.suit"
   ]
  },
  {
   "cell_type": "code",
   "execution_count": 55,
   "id": "25f42b9b",
   "metadata": {},
   "outputs": [],
   "source": [
    "# values = {'two': 2, 'three': 3, 'four': 4, 'five': 5, 'six': 6, 'seven': 7, 'eight': 8, 'nine': 9, 'ten': 10, 'jack': 11, 'queen': 12, 'king': 13, 'ace': 14}\n"
   ]
  },
  {
   "cell_type": "code",
   "execution_count": 56,
   "id": "149aa872",
   "metadata": {},
   "outputs": [
    {
     "data": {
      "text/plain": [
       "2"
      ]
     },
     "execution_count": 56,
     "metadata": {},
     "output_type": "execute_result"
    }
   ],
   "source": [
    "values[two_hearts.rank]"
   ]
  },
  {
   "cell_type": "code",
   "execution_count": 64,
   "id": "f2ff6c39",
   "metadata": {},
   "outputs": [],
   "source": [
    "three_of_clubs = Card(\"clubs\",\"three\")"
   ]
  },
  {
   "cell_type": "code",
   "execution_count": 58,
   "id": "b97b81b0",
   "metadata": {},
   "outputs": [
    {
     "data": {
      "text/plain": [
       "'clubs'"
      ]
     },
     "execution_count": 58,
     "metadata": {},
     "output_type": "execute_result"
    }
   ],
   "source": [
    "three_of_clubs.suit"
   ]
  },
  {
   "cell_type": "code",
   "execution_count": 59,
   "id": "88353b49",
   "metadata": {},
   "outputs": [
    {
     "data": {
      "text/plain": [
       "'three'"
      ]
     },
     "execution_count": 59,
     "metadata": {},
     "output_type": "execute_result"
    }
   ],
   "source": [
    "three_of_clubs.rank"
   ]
  },
  {
   "cell_type": "code",
   "execution_count": 60,
   "id": "c2378456",
   "metadata": {},
   "outputs": [
    {
     "data": {
      "text/plain": [
       "True"
      ]
     },
     "execution_count": 60,
     "metadata": {},
     "output_type": "execute_result"
    }
   ],
   "source": [
    "two_hearts.value<three_of_clubs.value"
   ]
  },
  {
   "cell_type": "code",
   "execution_count": 61,
   "id": "943a207c",
   "metadata": {},
   "outputs": [
    {
     "data": {
      "text/plain": [
       "False"
      ]
     },
     "execution_count": 61,
     "metadata": {},
     "output_type": "execute_result"
    }
   ],
   "source": [
    "two_hearts.value>three_of_clubs.value"
   ]
  },
  {
   "cell_type": "code",
   "execution_count": 62,
   "id": "63b7c8ba",
   "metadata": {},
   "outputs": [
    {
     "data": {
      "text/plain": [
       "False"
      ]
     },
     "execution_count": 62,
     "metadata": {},
     "output_type": "execute_result"
    }
   ],
   "source": [
    "two_hearts.value==three_of_clubs.value"
   ]
  },
  {
   "cell_type": "code",
   "execution_count": 86,
   "id": "d0b949b8",
   "metadata": {},
   "outputs": [],
   "source": [
    "class Deck:\n",
    "    def __init__(self):\n",
    "        \n",
    "        self.all_cards=[]\n",
    "        \n",
    "        for suit in suits:\n",
    "            for rank in ranks:\n",
    "                #create the card object\n",
    "                created_card=Card(suit,rank)\n",
    "                self.all_cards.append((created_card))\n",
    "                def shuffle(self):\n",
    "                    randomm.shuffle(self.all_cards)"
   ]
  },
  {
   "cell_type": "code",
   "execution_count": 87,
   "id": "fa9a43f0",
   "metadata": {},
   "outputs": [],
   "source": [
    "new_deck=Deck()"
   ]
  },
  {
   "cell_type": "code",
   "execution_count": 88,
   "id": "86a4604b",
   "metadata": {},
   "outputs": [
    {
     "data": {
      "text/plain": [
       "[<__main__.Card at 0x1072c8b90>,\n",
       " <__main__.Card at 0x1072c9810>,\n",
       " <__main__.Card at 0x1072cba50>,\n",
       " <__main__.Card at 0x1072c87d0>,\n",
       " <__main__.Card at 0x1072ca650>,\n",
       " <__main__.Card at 0x1072c86d0>,\n",
       " <__main__.Card at 0x1072cb690>,\n",
       " <__main__.Card at 0x1072c84d0>,\n",
       " <__main__.Card at 0x1072cb0d0>,\n",
       " <__main__.Card at 0x1072c8f10>,\n",
       " <__main__.Card at 0x1072c8250>,\n",
       " <__main__.Card at 0x1072cad10>,\n",
       " <__main__.Card at 0x1072c8c90>,\n",
       " <__main__.Card at 0x1072cb550>,\n",
       " <__main__.Card at 0x1072c9e90>,\n",
       " <__main__.Card at 0x1072c9e10>,\n",
       " <__main__.Card at 0x1072c9c10>,\n",
       " <__main__.Card at 0x1072cb050>,\n",
       " <__main__.Card at 0x1072c8450>,\n",
       " <__main__.Card at 0x1072c8550>,\n",
       " <__main__.Card at 0x1072c8290>,\n",
       " <__main__.Card at 0x1072cb210>,\n",
       " <__main__.Card at 0x1072c9210>,\n",
       " <__main__.Card at 0x1072cb9d0>,\n",
       " <__main__.Card at 0x1072c8950>,\n",
       " <__main__.Card at 0x1072ca8d0>,\n",
       " <__main__.Card at 0x1072cb110>,\n",
       " <__main__.Card at 0x1066603d0>,\n",
       " <__main__.Card at 0x1073a7050>,\n",
       " <__main__.Card at 0x1073a4510>,\n",
       " <__main__.Card at 0x1073a6f10>,\n",
       " <__main__.Card at 0x1073a5bd0>,\n",
       " <__main__.Card at 0x1073a4750>,\n",
       " <__main__.Card at 0x1073a4e10>,\n",
       " <__main__.Card at 0x1073a5e10>,\n",
       " <__main__.Card at 0x1073a4e50>,\n",
       " <__main__.Card at 0x1073a4a90>,\n",
       " <__main__.Card at 0x1073a4550>,\n",
       " <__main__.Card at 0x1073a4410>,\n",
       " <__main__.Card at 0x1073a7f50>,\n",
       " <__main__.Card at 0x1073a4a10>,\n",
       " <__main__.Card at 0x1073a5a10>,\n",
       " <__main__.Card at 0x1073a7410>,\n",
       " <__main__.Card at 0x1073a4090>,\n",
       " <__main__.Card at 0x1073a7c50>,\n",
       " <__main__.Card at 0x1073a6150>,\n",
       " <__main__.Card at 0x1073a4d90>,\n",
       " <__main__.Card at 0x1073a4c10>,\n",
       " <__main__.Card at 0x1073a5150>,\n",
       " <__main__.Card at 0x1073a7750>,\n",
       " <__main__.Card at 0x1073a5b50>,\n",
       " <__main__.Card at 0x1073a5cd0>]"
      ]
     },
     "execution_count": 88,
     "metadata": {},
     "output_type": "execute_result"
    }
   ],
   "source": [
    "new_deck.all_cards"
   ]
  },
  {
   "cell_type": "code",
   "execution_count": 89,
   "id": "fe262679",
   "metadata": {},
   "outputs": [
    {
     "data": {
      "text/plain": [
       "<__main__.Card at 0x1072c86d0>"
      ]
     },
     "execution_count": 89,
     "metadata": {},
     "output_type": "execute_result"
    }
   ],
   "source": [
    "new_deck.all_cards[5]"
   ]
  },
  {
   "cell_type": "code",
   "execution_count": 90,
   "id": "5e37ee2a",
   "metadata": {},
   "outputs": [],
   "source": [
    "first_card=new_deck.all_cards[-1]"
   ]
  },
  {
   "cell_type": "code",
   "execution_count": 91,
   "id": "6e304277",
   "metadata": {},
   "outputs": [
    {
     "name": "stdout",
     "output_type": "stream",
     "text": [
      "nine of spades\n"
     ]
    }
   ],
   "source": [
    "print(first_card)"
   ]
  },
  {
   "cell_type": "code",
   "execution_count": 92,
   "id": "dab8542a",
   "metadata": {},
   "outputs": [],
   "source": [
    "first_card=new_deck.all_cards[9]"
   ]
  },
  {
   "cell_type": "code",
   "execution_count": 93,
   "id": "6f7f4ab3",
   "metadata": {},
   "outputs": [
    {
     "name": "stdout",
     "output_type": "stream",
     "text": [
      "queen of hearts\n"
     ]
    }
   ],
   "source": [
    "print(first_card)"
   ]
  },
  {
   "cell_type": "code",
   "execution_count": 94,
   "id": "4b2dac59",
   "metadata": {},
   "outputs": [],
   "source": [
    "bottom_card=new_deck.all_cards[0]"
   ]
  },
  {
   "cell_type": "code",
   "execution_count": 95,
   "id": "c4ab8f9b",
   "metadata": {},
   "outputs": [
    {
     "name": "stdout",
     "output_type": "stream",
     "text": [
      "ace of hearts\n"
     ]
    }
   ],
   "source": [
    "print(bottom_card)"
   ]
  },
  {
   "cell_type": "code",
   "execution_count": 96,
   "id": "337f5651",
   "metadata": {},
   "outputs": [
    {
     "name": "stdout",
     "output_type": "stream",
     "text": [
      "ace of hearts\n",
      "eight of hearts\n",
      "five of hearts\n",
      "two of hearts\n",
      "king of hearts\n",
      "jack of hearts\n",
      "ten of hearts\n",
      "four of hearts\n",
      "seven of hearts\n",
      "queen of hearts\n",
      "six of hearts\n",
      "three of hearts\n",
      "nine of hearts\n",
      "ace of diamonds\n",
      "eight of diamonds\n",
      "five of diamonds\n",
      "two of diamonds\n",
      "king of diamonds\n",
      "jack of diamonds\n",
      "ten of diamonds\n",
      "four of diamonds\n",
      "seven of diamonds\n",
      "queen of diamonds\n",
      "six of diamonds\n",
      "three of diamonds\n",
      "nine of diamonds\n",
      "ace of clubs\n",
      "eight of clubs\n",
      "five of clubs\n",
      "two of clubs\n",
      "king of clubs\n",
      "jack of clubs\n",
      "ten of clubs\n",
      "four of clubs\n",
      "seven of clubs\n",
      "queen of clubs\n",
      "six of clubs\n",
      "three of clubs\n",
      "nine of clubs\n",
      "ace of spades\n",
      "eight of spades\n",
      "five of spades\n",
      "two of spades\n",
      "king of spades\n",
      "jack of spades\n",
      "ten of spades\n",
      "four of spades\n",
      "seven of spades\n",
      "queen of spades\n",
      "six of spades\n",
      "three of spades\n",
      "nine of spades\n"
     ]
    }
   ],
   "source": [
    "for card_object in new_deck.all_cards:\n",
    "    print(card_object)"
   ]
  },
  {
   "cell_type": "code",
   "execution_count": 97,
   "id": "759b47f7",
   "metadata": {},
   "outputs": [
    {
     "name": "stdout",
     "output_type": "stream",
     "text": [
      "ace of hearts\n",
      "eight of hearts\n",
      "five of hearts\n",
      "two of hearts\n",
      "king of hearts\n",
      "jack of hearts\n",
      "ten of hearts\n",
      "four of hearts\n",
      "seven of hearts\n",
      "queen of hearts\n",
      "six of hearts\n",
      "three of hearts\n",
      "nine of hearts\n",
      "ace of diamonds\n",
      "eight of diamonds\n",
      "five of diamonds\n",
      "two of diamonds\n",
      "king of diamonds\n",
      "jack of diamonds\n",
      "ten of diamonds\n",
      "four of diamonds\n",
      "seven of diamonds\n",
      "queen of diamonds\n",
      "six of diamonds\n",
      "three of diamonds\n",
      "nine of diamonds\n",
      "ace of clubs\n",
      "eight of clubs\n",
      "five of clubs\n",
      "two of clubs\n",
      "king of clubs\n",
      "jack of clubs\n",
      "ten of clubs\n",
      "four of clubs\n",
      "seven of clubs\n",
      "queen of clubs\n",
      "six of clubs\n",
      "three of clubs\n",
      "nine of clubs\n",
      "ace of spades\n",
      "eight of spades\n",
      "five of spades\n",
      "two of spades\n",
      "king of spades\n",
      "jack of spades\n",
      "ten of spades\n",
      "four of spades\n",
      "seven of spades\n",
      "queen of spades\n",
      "six of spades\n",
      "three of spades\n",
      "nine of spades\n"
     ]
    }
   ],
   "source": [
    "for card_object in new_deck.all_cards:\n",
    "    print(card_object)"
   ]
  },
  {
   "cell_type": "code",
   "execution_count": 100,
   "id": "7c4dfb7e",
   "metadata": {},
   "outputs": [
    {
     "name": "stdout",
     "output_type": "stream",
     "text": [
      "ace of hearts\n"
     ]
    }
   ],
   "source": [
    "print(bottom_card)"
   ]
  },
  {
   "cell_type": "code",
   "execution_count": 104,
   "id": "e94b4127",
   "metadata": {},
   "outputs": [
    {
     "ename": "AttributeError",
     "evalue": "'Deck' object has no attribute 'shuffle'",
     "output_type": "error",
     "traceback": [
      "\u001b[0;31m---------------------------------------------------------------------------\u001b[0m",
      "\u001b[0;31mAttributeError\u001b[0m                            Traceback (most recent call last)",
      "Cell \u001b[0;32mIn[104], line 1\u001b[0m\n\u001b[0;32m----> 1\u001b[0m new_deck\u001b[38;5;241m.\u001b[39mshuffle()\n",
      "\u001b[0;31mAttributeError\u001b[0m: 'Deck' object has no attribute 'shuffle'"
     ]
    }
   ],
   "source": [
    "new_deck.shuffle()"
   ]
  },
  {
   "cell_type": "code",
   "execution_count": null,
   "id": "ce587a8a",
   "metadata": {},
   "outputs": [],
   "source": []
  }
 ],
 "metadata": {
  "kernelspec": {
   "display_name": "Python 3 (ipykernel)",
   "language": "python",
   "name": "python3"
  },
  "language_info": {
   "codemirror_mode": {
    "name": "ipython",
    "version": 3
   },
   "file_extension": ".py",
   "mimetype": "text/x-python",
   "name": "python",
   "nbconvert_exporter": "python",
   "pygments_lexer": "ipython3",
   "version": "3.11.5"
  }
 },
 "nbformat": 4,
 "nbformat_minor": 5
}
